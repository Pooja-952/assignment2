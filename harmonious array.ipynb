{
 "cells": [
  {
   "cell_type": "markdown",
   "id": "d931d872-7d8a-4e91-af2c-9ca43395a12b",
   "metadata": {},
   "source": [
    "## Q3. We define a harmonious array as an array where the difference between its maximum value\n",
    "and its minimum value is exactly 1.\n",
    "\n",
    "Given an integer array nums, return the length of its longest harmonious subsequence\n",
    "among all its possible subsequences.\n",
    "\n",
    "A subsequence of an array is a sequence that can be derived from the array by deleting some or no elements without changing the order of the remaining elements.\n"
   ]
  },
  {
   "cell_type": "code",
   "execution_count": 3,
   "id": "459a1181-2e91-4ddc-af14-6b321f5c79c8",
   "metadata": {},
   "outputs": [],
   "source": [
    "def findLHS(nums):\n",
    "    num_count= {}\n",
    "    max_length= 0\n",
    "    for num in nums :\n",
    "        num_count[num]= num_count.get(num,0) + 1\n",
    "    for num in num_count:\n",
    "        if num + 1 in num_count:\n",
    "            length= num_count[num] + num_count[num + 1]\n",
    "            max_length= max(max_length, length)\n",
    "            \n",
    "    return(max_length)        \n",
    "            \n",
    "        \n",
    "            \n",
    "        \n",
    "        \n",
    "        \n",
    "    "
   ]
  },
  {
   "cell_type": "code",
   "execution_count": 4,
   "id": "23674a3e-57ea-470a-828a-64650c7bc31e",
   "metadata": {},
   "outputs": [
    {
     "name": "stdout",
     "output_type": "stream",
     "text": [
      "5\n"
     ]
    }
   ],
   "source": [
    "nums = [1, 3, 2, 2, 5, 2, 3, 7]\n",
    "\n",
    "result = findLHS(nums)\n",
    "print(result)"
   ]
  },
  {
   "cell_type": "code",
   "execution_count": null,
   "id": "e2433f52-c4d4-4b32-b41a-b427badf48ec",
   "metadata": {},
   "outputs": [],
   "source": []
  }
 ],
 "metadata": {
  "kernelspec": {
   "display_name": "Python 3 (ipykernel)",
   "language": "python",
   "name": "python3"
  },
  "language_info": {
   "codemirror_mode": {
    "name": "ipython",
    "version": 3
   },
   "file_extension": ".py",
   "mimetype": "text/x-python",
   "name": "python",
   "nbconvert_exporter": "python",
   "pygments_lexer": "ipython3",
   "version": "3.10.6"
  }
 },
 "nbformat": 4,
 "nbformat_minor": 5
}
