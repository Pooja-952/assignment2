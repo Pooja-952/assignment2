{
 "cells": [
  {
   "cell_type": "markdown",
   "id": "7d575503-fc0e-463c-82da-1c45e8a42c34",
   "metadata": {},
   "source": [
    "## Q4. You have a long flowerbed in which some of the plots are planted, and some are not.\n",
    "However, flowers cannot be planted in adjacent plots.\n",
    "Given an integer array flowerbed containing 0's and 1's, where 0 means empty and 1 means not empty, and an integer n, return true if n new flowers can be planted in the flowerbed without violating the no-adjacent-flowers rule and false otherwise.\n"
   ]
  },
  {
   "cell_type": "code",
   "execution_count": 2,
   "id": "100772a3-5614-4102-8678-1a98d5b8d069",
   "metadata": {},
   "outputs": [],
   "source": [
    "def canPlaceFlowers(flowerbed, n):\n",
    "    length= len(flowerbed)\n",
    "    count=0\n",
    "    i= 0\n",
    "    while i<length:\n",
    "        if flowerbed[i]==0 and (i==0 or flowerbed[i-1]==0) and (i==length-1 or flowerbed[i-1]==0):\n",
    "            flowerbed[i]=1\n",
    "            count+=1\n",
    "            i+=2\n",
    "        else:\n",
    "            i+=1\n",
    "    return count>=n     "
   ]
  },
  {
   "cell_type": "code",
   "execution_count": 3,
   "id": "d72cdbbb-65f2-4593-b581-2c8a29db0c7b",
   "metadata": {},
   "outputs": [
    {
     "name": "stdout",
     "output_type": "stream",
     "text": [
      "True\n"
     ]
    }
   ],
   "source": [
    "flowerbed = [1, 0, 0, 0, 1]\n",
    "n = 1\n",
    "\n",
    "result = canPlaceFlowers(flowerbed, n)\n",
    "print(result)"
   ]
  },
  {
   "cell_type": "code",
   "execution_count": null,
   "id": "db4fd25f-e5a4-43f7-871a-ce3b441a084f",
   "metadata": {},
   "outputs": [],
   "source": []
  }
 ],
 "metadata": {
  "kernelspec": {
   "display_name": "Python 3 (ipykernel)",
   "language": "python",
   "name": "python3"
  },
  "language_info": {
   "codemirror_mode": {
    "name": "ipython",
    "version": 3
   },
   "file_extension": ".py",
   "mimetype": "text/x-python",
   "name": "python",
   "nbconvert_exporter": "python",
   "pygments_lexer": "ipython3",
   "version": "3.10.6"
  }
 },
 "nbformat": 4,
 "nbformat_minor": 5
}
