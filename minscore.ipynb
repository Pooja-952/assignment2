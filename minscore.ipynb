{
 "cells": [
  {
   "cell_type": "markdown",
   "id": "7361e6eb-5fe0-46d6-bd5a-87acf80c80a7",
   "metadata": {},
   "source": [
    "## Q8. You are given an integer array nums and an integer k.\n",
    "In one operation, you can choose any index i where 0 <= i < nums.length and change nums[i] to nums[i] + x where x is an integer from the range [-k, k]. You can apply this operation at most once for each index i.\n",
    "The score of nums is the difference between the maximum and minimum elements in nums.\n",
    "Return the minimum score of nums after applying the mentioned operation at most once for each index in it."
   ]
  },
  {
   "cell_type": "code",
   "execution_count": 14,
   "id": "608f702c-c7d1-42f8-939c-ce403947cca5",
   "metadata": {},
   "outputs": [],
   "source": [
    "def minScore(nums, k):\n",
    "    minimum = float('inf')\n",
    "    maximum = float('-inf')\n",
    "    for num in nums:\n",
    "        minimum= min(minimum, num)\n",
    "        maximum= max(maximum, num)\n",
    "        initial_score= maximum-minimum\n",
    "    for num in nums:\n",
    "        for x in range(-k, k + 1):\n",
    "                new_min= min(minimum, num + x)\n",
    "                new_max= max(maximum, num + x)\n",
    "                new_score= new_max- new_min\n",
    "                initial_score= min(initial_score, new_score)\n",
    "    return initial_score\n",
    "            "
   ]
  },
  {
   "cell_type": "code",
   "execution_count": 15,
   "id": "e17d55c7-0c23-4108-8e8e-c02fcdad6093",
   "metadata": {},
   "outputs": [
    {
     "name": "stdout",
     "output_type": "stream",
     "text": [
      "0\n"
     ]
    }
   ],
   "source": [
    "nums = [1]\n",
    "k = 0\n",
    "result= minScore(nums, k)\n",
    "print(result)"
   ]
  },
  {
   "cell_type": "code",
   "execution_count": null,
   "id": "b0652af2-55bf-434e-92a1-61b400c98d85",
   "metadata": {},
   "outputs": [],
   "source": []
  }
 ],
 "metadata": {
  "kernelspec": {
   "display_name": "Python 3 (ipykernel)",
   "language": "python",
   "name": "python3"
  },
  "language_info": {
   "codemirror_mode": {
    "name": "ipython",
    "version": 3
   },
   "file_extension": ".py",
   "mimetype": "text/x-python",
   "name": "python",
   "nbconvert_exporter": "python",
   "pygments_lexer": "ipython3",
   "version": "3.10.6"
  }
 },
 "nbformat": 4,
 "nbformat_minor": 5
}
