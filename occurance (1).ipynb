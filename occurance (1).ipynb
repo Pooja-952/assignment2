{
 "cells": [
  {
   "cell_type": "markdown",
   "id": "e2829257-29cb-498c-8150-b4cea0b5a538",
   "metadata": {},
   "source": [
    "## Q2. Given an integer array nums and an integer val, remove all occurrences of val in nums in-place. The order of the elements may be changed. Then return the number of elements in nums which are not equal to val."
   ]
  },
  {
   "cell_type": "code",
   "execution_count": 4,
   "id": "02d5ffff-458b-4896-8142-980b0f3669cf",
   "metadata": {},
   "outputs": [
    {
     "name": "stdout",
     "output_type": "stream",
     "text": [
      "2\n",
      "[2, 2]\n"
     ]
    }
   ],
   "source": [
    "def removeElement(nums, val):\n",
    "    left = 0\n",
    "    right = 0\n",
    "\n",
    "    while right < len(nums):\n",
    "        \n",
    "        if nums[right] != val:\n",
    "            \n",
    "            nums[left] = nums[right]\n",
    "            left += 1\n",
    "        \n",
    "        \n",
    "        right += 1\n",
    "\n",
    "    \n",
    "    return left\n",
    "\n",
    "nums = [3, 2, 2, 3]\n",
    "val = 3\n",
    "\n",
    "result = removeElement(nums, val)\n",
    "print(result)\n",
    "print(nums[:result])\n"
   ]
  }
 ],
 "metadata": {
  "kernelspec": {
   "display_name": "Python 3 (ipykernel)",
   "language": "python",
   "name": "python3"
  },
  "language_info": {
   "codemirror_mode": {
    "name": "ipython",
    "version": 3
   },
   "file_extension": ".py",
   "mimetype": "text/x-python",
   "name": "python",
   "nbconvert_exporter": "python",
   "pygments_lexer": "ipython3",
   "version": "3.10.6"
  }
 },
 "nbformat": 4,
 "nbformat_minor": 5
}
