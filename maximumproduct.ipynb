{
 "cells": [
  {
   "cell_type": "markdown",
   "id": "3e566501-ddd1-406c-8aed-acec4bdc4533",
   "metadata": {},
   "source": [
    "## Q5. Given an integer array nums, find three numbers whose product is maximum and return the maximum product.\n"
   ]
  },
  {
   "cell_type": "code",
   "execution_count": 2,
   "id": "eb235b19-e4fd-42f4-b1ae-1a003e759793",
   "metadata": {},
   "outputs": [],
   "source": [
    "def maximumProduct(nums):\n",
    "    nums.sort()\n",
    "    n= len(nums)\n",
    "    return max(nums[n-1]*nums[n-2]*nums[n-3], nums[0]*nums[1]*nums[n-1])"
   ]
  },
  {
   "cell_type": "code",
   "execution_count": 3,
   "id": "d3ae7b28-195d-4cfa-bd1f-583535376bca",
   "metadata": {},
   "outputs": [
    {
     "name": "stdout",
     "output_type": "stream",
     "text": [
      "6\n"
     ]
    }
   ],
   "source": [
    "nums= [1,2,3]\n",
    "result= maximumProduct(nums)\n",
    "print(result)"
   ]
  },
  {
   "cell_type": "code",
   "execution_count": null,
   "id": "5ae5d809-c310-474b-a2ee-631af5683db5",
   "metadata": {},
   "outputs": [],
   "source": []
  }
 ],
 "metadata": {
  "kernelspec": {
   "display_name": "Python 3 (ipykernel)",
   "language": "python",
   "name": "python3"
  },
  "language_info": {
   "codemirror_mode": {
    "name": "ipython",
    "version": 3
   },
   "file_extension": ".py",
   "mimetype": "text/x-python",
   "name": "python",
   "nbconvert_exporter": "python",
   "pygments_lexer": "ipython3",
   "version": "3.10.6"
  }
 },
 "nbformat": 4,
 "nbformat_minor": 5
}
