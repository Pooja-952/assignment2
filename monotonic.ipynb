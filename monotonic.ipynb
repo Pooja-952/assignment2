{
 "cells": [
  {
   "cell_type": "markdown",
   "id": "0767d9d0-037e-4bbb-bf66-4ba8038f7af4",
   "metadata": {},
   "source": [
    "## Q7. An array is monotonic if it is either monotone increasing or monotone decreasing.\n",
    "An array nums is monotone increasing if for all i <= j, nums[i] <= nums[j]. An array nums is\n",
    "monotone decreasing if for all i <= j, nums[i] >= nums[j].\n",
    "Given an integer array nums, return true if the given array is monotonic, or false otherwise."
   ]
  },
  {
   "cell_type": "code",
   "execution_count": 6,
   "id": "68ea437e-6ba0-4ec0-93f6-9d18ea1d6a62",
   "metadata": {},
   "outputs": [],
   "source": [
    "def isMonotonic(nums):\n",
    "    n= len(nums)\n",
    "    is_increasing= True\n",
    "    is_decreasing= True\n",
    "    for i in range(1, n):\n",
    "        if nums[i]< nums[i-1]:\n",
    "            is_increasing= False\n",
    "            if nums[i]> nums[i-1]:\n",
    "                is_decreasing= False\n",
    "    return is_increasing or is_decreasing\n",
    "            \n",
    "            "
   ]
  },
  {
   "cell_type": "code",
   "execution_count": 7,
   "id": "97ef3880-4a08-486a-b80a-c0bc4ad27db0",
   "metadata": {},
   "outputs": [
    {
     "name": "stdout",
     "output_type": "stream",
     "text": [
      "True\n"
     ]
    }
   ],
   "source": [
    "nums = [1,2,2,3]\n",
    "result= isMonotonic(nums)\n",
    "print(result)"
   ]
  },
  {
   "cell_type": "code",
   "execution_count": null,
   "id": "c5616c14-daf5-43d6-8814-e831cb1b9a67",
   "metadata": {},
   "outputs": [],
   "source": []
  }
 ],
 "metadata": {
  "kernelspec": {
   "display_name": "Python 3 (ipykernel)",
   "language": "python",
   "name": "python3"
  },
  "language_info": {
   "codemirror_mode": {
    "name": "ipython",
    "version": 3
   },
   "file_extension": ".py",
   "mimetype": "text/x-python",
   "name": "python",
   "nbconvert_exporter": "python",
   "pygments_lexer": "ipython3",
   "version": "3.10.6"
  }
 },
 "nbformat": 4,
 "nbformat_minor": 5
}
